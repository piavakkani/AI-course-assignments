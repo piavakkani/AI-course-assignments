{
  "cells": [
    {
      "cell_type": "code",
      "execution_count": null,
      "metadata": {},
      "outputs": [],
      "source": [
        "# Artificial Intelligence Lab Assignment 6\n",
        "# Feedforward Neural Network for MNIST Dataset"
      ]
    },
    {
      "cell_type": "code",
      "execution_count": null,
      "metadata": {
        "id": "4dfL6EVAjy2p"
      },
      "outputs": [],
      "source": [
        "from sklearn.preprocessing import LabelBinarizer\n",
        "from sklearn.metrics import classification_report  # will give us a nicely formatted report displaying the total accuracy of our model, for each digit\n",
        "from tensorflow.keras.models import Sequential\n",
        "from tensorflow.keras.layers import Dense\n",
        "from tensorflow.keras.optimizers import SGD\n",
        "from tensorflow.keras.datasets import mnist\n",
        "from tensorflow.keras import backend as K\n",
        "import matplotlib.pyplot as plt\n",
        "import numpy as np\n",
        "import argparse"
      ]
    },
    {
      "cell_type": "code",
      "execution_count": null,
      "metadata": {
        "colab": {
          "base_uri": "https://localhost:8080/"
        },
        "id": "pfyoqRaPj9DL",
        "outputId": "8d4fc9d9-6682-48dc-c172-d4a0d78be539"
      },
      "outputs": [
        {
          "name": "stdout",
          "output_type": "stream",
          "text": [
            "Accessing MNIST...\n"
          ]
        }
      ],
      "source": [
        "# load MNIST dataset\n",
        "print(\"Accessing MNIST...\")\n",
        "((trainX, trainY), (testX, testY)) = mnist.load_data()        \n",
        "\n",
        "# flatten each image from 3D to 2D \n",
        "trainX = trainX.reshape((trainX.shape[0], 28 * 28 * 1))       \n",
        "testX = testX.reshape((testX.shape[0], 28 * 28 * 1))\n",
        "\n",
        "# scale data to the range of [0, 1]\n",
        "trainX = trainX.astype(\"float32\") / 255.0\n",
        "testX = testX.astype(\"float32\") / 255.0"
      ]
    },
    {
      "cell_type": "code",
      "execution_count": null,
      "metadata": {
        "id": "AWjyoX0IkQYG"
      },
      "outputs": [],
      "source": [
        "# convert the labels from integers to vectors i.e., 3 becomes [0, 0, 0, 1, 0, 0, 0, 0, 0, 0] \n",
        "lb = LabelBinarizer()\n",
        "trainY = lb.fit_transform(trainY)\n",
        "testY = lb.transform(testY)"
      ]
    },
    {
      "cell_type": "code",
      "execution_count": null,
      "metadata": {
        "id": "vFKMct9dkfhb"
      },
      "outputs": [],
      "source": [
        "# define the 784-256-128-10 architecture using Keras\n",
        "model = Sequential()           # layers will be stacked on top of each other with the output of the previous layer feeding into the next.\n",
        "model.add(Dense(256, input_shape=(784,), activation=\"sigmoid\"))\n",
        "model.add(Dense(128, activation=\"sigmoid\"))\n",
        "model.add(Dense(10, activation=\"softmax\"))"
      ]
    },
    {
      "cell_type": "code",
      "execution_count": null,
      "metadata": {
        "colab": {
          "base_uri": "https://localhost:8080/"
        },
        "id": "q33EzDjNkfk-",
        "outputId": "ac35e1c8-eb13-4138-802c-37191e581508"
      },
      "outputs": [
        {
          "name": "stdout",
          "output_type": "stream",
          "text": [
            "[INFO] training network...\n",
            "Epoch 1/20\n",
            "469/469 [==============================] - 4s 8ms/step - loss: 2.2847 - accuracy: 0.1805 - val_loss: 2.2458 - val_accuracy: 0.3432\n",
            "Epoch 2/20\n",
            "469/469 [==============================] - 3s 7ms/step - loss: 2.2138 - accuracy: 0.3768 - val_loss: 2.1744 - val_accuracy: 0.4434\n",
            "Epoch 3/20\n",
            "469/469 [==============================] - 3s 7ms/step - loss: 2.1318 - accuracy: 0.4801 - val_loss: 2.0752 - val_accuracy: 0.5332\n",
            "Epoch 4/20\n",
            "469/469 [==============================] - 3s 7ms/step - loss: 2.0143 - accuracy: 0.5513 - val_loss: 1.9325 - val_accuracy: 0.5703\n",
            "Epoch 5/20\n",
            "469/469 [==============================] - 4s 8ms/step - loss: 1.8503 - accuracy: 0.5948 - val_loss: 1.7430 - val_accuracy: 0.5854\n",
            "Epoch 6/20\n",
            "469/469 [==============================] - 4s 8ms/step - loss: 1.6486 - accuracy: 0.6381 - val_loss: 1.5280 - val_accuracy: 0.6600\n",
            "Epoch 7/20\n",
            "469/469 [==============================] - 3s 7ms/step - loss: 1.4391 - accuracy: 0.6857 - val_loss: 1.3235 - val_accuracy: 0.7150\n",
            "Epoch 8/20\n",
            "469/469 [==============================] - 3s 7ms/step - loss: 1.2514 - accuracy: 0.7254 - val_loss: 1.1520 - val_accuracy: 0.7486\n",
            "Epoch 9/20\n",
            "469/469 [==============================] - 3s 7ms/step - loss: 1.0992 - accuracy: 0.7552 - val_loss: 1.0179 - val_accuracy: 0.7681\n",
            "Epoch 10/20\n",
            "469/469 [==============================] - 3s 7ms/step - loss: 0.9808 - accuracy: 0.7752 - val_loss: 0.9144 - val_accuracy: 0.7977\n",
            "Epoch 11/20\n",
            "469/469 [==============================] - 3s 7ms/step - loss: 0.8885 - accuracy: 0.7941 - val_loss: 0.8337 - val_accuracy: 0.8095\n",
            "Epoch 12/20\n",
            "469/469 [==============================] - 3s 7ms/step - loss: 0.8153 - accuracy: 0.8070 - val_loss: 0.7677 - val_accuracy: 0.8202\n",
            "Epoch 13/20\n",
            "469/469 [==============================] - 3s 7ms/step - loss: 0.7554 - accuracy: 0.8196 - val_loss: 0.7136 - val_accuracy: 0.8286\n",
            "Epoch 14/20\n",
            "469/469 [==============================] - 3s 7ms/step - loss: 0.7055 - accuracy: 0.8285 - val_loss: 0.6680 - val_accuracy: 0.8388\n",
            "Epoch 15/20\n",
            "469/469 [==============================] - 3s 7ms/step - loss: 0.6633 - accuracy: 0.8377 - val_loss: 0.6288 - val_accuracy: 0.8469\n",
            "Epoch 16/20\n",
            "469/469 [==============================] - 3s 7ms/step - loss: 0.6274 - accuracy: 0.8443 - val_loss: 0.5954 - val_accuracy: 0.8535\n",
            "Epoch 17/20\n",
            "469/469 [==============================] - 3s 7ms/step - loss: 0.5963 - accuracy: 0.8514 - val_loss: 0.5668 - val_accuracy: 0.8582\n",
            "Epoch 18/20\n",
            "469/469 [==============================] - 3s 7ms/step - loss: 0.5695 - accuracy: 0.8556 - val_loss: 0.5419 - val_accuracy: 0.8621\n",
            "Epoch 19/20\n",
            "469/469 [==============================] - 4s 8ms/step - loss: 0.5461 - accuracy: 0.8607 - val_loss: 0.5203 - val_accuracy: 0.8670\n",
            "Epoch 20/20\n",
            "469/469 [==============================] - 5s 11ms/step - loss: 0.5257 - accuracy: 0.8650 - val_loss: 0.5011 - val_accuracy: 0.8713\n"
          ]
        }
      ],
      "source": [
        "# train the model using SGD\n",
        "print(\"[INFO] training network...\")\n",
        "sgd = SGD(0.01)\n",
        "model.compile(loss=\"categorical_crossentropy\", optimizer=sgd,metrics=[\"accuracy\"])\n",
        "H = model.fit(trainX, trainY, validation_data=(testX, testY),epochs=20, batch_size=128)"
      ]
    },
    {
      "cell_type": "code",
      "execution_count": null,
      "metadata": {
        "colab": {
          "base_uri": "https://localhost:8080/"
        },
        "id": "QtKfhD8QmROr",
        "outputId": "a2778fc9-84fb-4278-8c3c-3e131f50fcfe"
      },
      "outputs": [
        {
          "name": "stdout",
          "output_type": "stream",
          "text": [
            "[INFO] evaluating network...\n",
            "79/79 [==============================] - 0s 5ms/step\n",
            "              precision    recall  f1-score   support\n",
            "\n",
            "           0       0.91      0.97      0.94       980\n",
            "           1       0.92      0.98      0.95      1135\n",
            "           2       0.89      0.84      0.86      1032\n",
            "           3       0.82      0.87      0.85      1010\n",
            "           4       0.83      0.90      0.86       982\n",
            "           5       0.82      0.75      0.78       892\n",
            "           6       0.89      0.91      0.90       958\n",
            "           7       0.89      0.89      0.89      1028\n",
            "           8       0.88      0.78      0.83       974\n",
            "           9       0.85      0.80      0.82      1009\n",
            "\n",
            "    accuracy                           0.87     10000\n",
            "   macro avg       0.87      0.87      0.87     10000\n",
            "weighted avg       0.87      0.87      0.87     10000\n",
            "\n"
          ]
        }
      ],
      "source": [
        "# evaluate the network\n",
        "print(\"[INFO] evaluating network...\")\n",
        "predictions = model.predict(testX, batch_size=128)\n",
        "print(classification_report(testY.argmax(axis=1),\n",
        "\tpredictions.argmax(axis=1),\n",
        "\ttarget_names=[str(x) for x in lb.classes_]))"
      ]
    },
    {
      "cell_type": "code",
      "execution_count": null,
      "metadata": {
        "colab": {
          "base_uri": "https://localhost:8080/",
          "height": 316
        },
        "id": "M1sNIDbPmcIk",
        "outputId": "228e44c9-b94e-48d7-8be2-b186c1327633"
      },
      "outputs": [
        {
          "data": {
            "text/plain": [
              "<matplotlib.legend.Legend at 0x7f4673361050>"
            ]
          },
          "execution_count": 28,
          "metadata": {},
          "output_type": "execute_result"
        },
        {
          "data": {
            "image/png": "[encoded data removed]",
            "text/plain": [
              "<Figure size 432x288 with 1 Axes>"
            ]
          },
          "metadata": {},
          "output_type": "display_data"
        }
      ],
      "source": [
        "# plot the training loss and accuracy\n",
        "plt.style.use(\"ggplot\")\n",
        "plt.figure()\n",
        "plt.plot(np.arange(0, 20), H.history[\"loss\"], label=\"train_loss\")\n",
        "plt.plot(np.arange(0, 20), H.history[\"val_loss\"], label=\"val_loss\")\n",
        "plt.plot(np.arange(0, 20), H.history[\"accuracy\"], label=\"train_acc\")\n",
        "plt.plot(np.arange(0, 20), H.history[\"val_accuracy\"], label=\"val_acc\")\n",
        "plt.title(\"Training Loss and Accuracy\")\n",
        "plt.xlabel(\"Epoch #\")\n",
        "plt.ylabel(\"Loss/Accuracy\")\n",
        "plt.legend()"
      ]
    }
  ],
  "metadata": {
    "colab": {
      "provenance": []
    },
    "kernelspec": {
      "display_name": "Python 3",
      "language": "python",
      "name": "python3"
    },
    "language_info": {
      "name": "python",
      "version": "3.9.1 (tags/v3.9.1:1e5d33e, Dec  7 2020, 17:08:21) [MSC v.1927 64 bit (AMD64)]"
    },
    "vscode": {
      "interpreter": {
        "hash": "11938c6bc6919ae2720b4d5011047913343b08a43b18698fd82dedb0d4417594"
      }
    }
  },
  "nbformat": 4,
  "nbformat_minor": 0
}
